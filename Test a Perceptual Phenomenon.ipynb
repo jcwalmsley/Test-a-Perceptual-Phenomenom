{
 "cells": [
  {
   "cell_type": "markdown",
   "metadata": {},
   "source": [
    "### Analyzing the Stroop Effect\n",
    "\n",
    "Search results of stroop effect: [stroop effect](https://www.google.com/search?q=stroop+effect&oq=stroop+effect&aqs=chrome..69i57j69i61l3.6567j0j7&sourceid=chrome&ie=UTF-8)\n",
    "\n",
    "\n",
    "(1) What is the independent variable? What is the dependent variable?\n",
    "\n"
   ]
  },
  {
   "cell_type": "markdown",
   "metadata": {},
   "source": [
    "### Answer to question 1:\n",
    "\n",
    "\n",
    "- The independent variable is the: **(stimulus)** or in this case, the presentation of a word in letters describing a color in either a matching font color (i.e., a congruent presentation) or a non matching font color (i.e., an incongruent presentation) \n",
    "\n",
    "\n",
    "- The dependent variable on the other hand, is the: **(response)** or in this case the reaction time, also called the: *(interference score)* in this experiment, which is the time it takes a person to enunciate the actual font ink color of a displayed color name. For example, if the word 'PINK' is displayed in blue ink, the dependent variable or response, is how long in seconds it takes a person to enunciate the word blue from the time the word is shown to the subject even though the written word says \"PINK\"."
   ]
  },
  {
   "cell_type": "markdown",
   "metadata": {},
   "source": [
    "(2) What is an appropriate set of hypotheses for this task? Specify your null and alternative hypotheses, and clearly define any notation used. Justify your choices."
   ]
  },
  {
   "cell_type": "markdown",
   "metadata": {},
   "source": [
    "### Answer to question 2:\n",
    "\n",
    "- $H_0$ =  Null hypothesis\n",
    "- $H_A$ =  Alternate hypothesis\n",
    "- $\\mu_c$ =  mean response time of the congruent presentation (font color matches the word color description)\n",
    "- $\\mu_i$ =  mean response time of the incongruent presentation (font color does not match the word color description)\n",
    "\n",
    "---\n",
    "\n",
    "The Null hypothesis: the congruent presentation mean repsonse time equals the incogruent presentation mean response time\n",
    "\n",
    "$H_0$ :     $\\mu_c$   =     $\\mu_i$ \n",
    "\n",
    "---\n",
    "\n",
    "The Alternative hypothesis: the congruent presentation mean response time does not equal the incongruent presentation mean response time\n",
    "\n",
    "$H_A$:      $\\mu_c$   ≠      $\\mu_i$   \n",
    "\n",
    "\n",
    "---\n",
    "\n",
    "\n",
    "- When each participant is tested under both conditions (congruency) and (incongruency) a ttest_rel [scipy.stats.ttest_rel](https://docs.scipy.org/doc/scipy-0.14.0/reference/generated/scipy.stats.ttest_rel.html) is selected to ascertain if the differences in the means of the two groups of responses are statistically significant. \n",
    "\n",
    "- When the alternative hypothesis states that; the test results are either less than or greater than the null hypothesis we are expecting the distribution for a two tailed test, in this particular experiment however, we'll use the results as if it were a one tailed or one sided experiment because of the fact that negative response times are infeasible. "
   ]
  },
  {
   "cell_type": "markdown",
   "metadata": {},
   "source": [
    "(3) Report some descriptive statistics regarding this dataset. Include at least one measure of central tendency and at least one measure of variability. The name of the data file is 'stroopdata.csv'."
   ]
  },
  {
   "cell_type": "markdown",
   "metadata": {},
   "source": [
    "### Answer to question 3:"
   ]
  },
  {
   "cell_type": "code",
   "execution_count": 87,
   "metadata": {},
   "outputs": [],
   "source": [
    "# Perform the analysis here\n",
    "# importing packages\n",
    "import os\n",
    "import math\n",
    "import random\n",
    "import numpy as np\n",
    "import pandas as pd\n",
    "import seaborn as sns\n",
    "%matplotlib inline\n",
    "import matplotlib.pyplot as plot\n",
    "import statistics as st\n",
    "from scipy import stats\n",
    "from scipy.stats import t\n",
    "# setting a random seed\n",
    "np.random.seed(2019)\n",
    "\n",
    "\n",
    "# read in data\n",
    "df = pd.read_csv('stroopdata.csv')\n",
    "#"
   ]
  },
  {
   "cell_type": "markdown",
   "metadata": {},
   "source": [
    "The data set is small therefore we'll have a look at the entire data frame"
   ]
  },
  {
   "cell_type": "code",
   "execution_count": 88,
   "metadata": {},
   "outputs": [
    {
     "data": {
      "text/html": [
       "<div>\n",
       "<style scoped>\n",
       "    .dataframe tbody tr th:only-of-type {\n",
       "        vertical-align: middle;\n",
       "    }\n",
       "\n",
       "    .dataframe tbody tr th {\n",
       "        vertical-align: top;\n",
       "    }\n",
       "\n",
       "    .dataframe thead th {\n",
       "        text-align: right;\n",
       "    }\n",
       "</style>\n",
       "<table border=\"1\" class=\"dataframe\">\n",
       "  <thead>\n",
       "    <tr style=\"text-align: right;\">\n",
       "      <th></th>\n",
       "      <th>Congruent</th>\n",
       "      <th>Incongruent</th>\n",
       "    </tr>\n",
       "  </thead>\n",
       "  <tbody>\n",
       "    <tr>\n",
       "      <th>0</th>\n",
       "      <td>12.079</td>\n",
       "      <td>19.278</td>\n",
       "    </tr>\n",
       "    <tr>\n",
       "      <th>1</th>\n",
       "      <td>16.791</td>\n",
       "      <td>18.741</td>\n",
       "    </tr>\n",
       "    <tr>\n",
       "      <th>2</th>\n",
       "      <td>9.564</td>\n",
       "      <td>21.214</td>\n",
       "    </tr>\n",
       "    <tr>\n",
       "      <th>3</th>\n",
       "      <td>8.630</td>\n",
       "      <td>15.687</td>\n",
       "    </tr>\n",
       "    <tr>\n",
       "      <th>4</th>\n",
       "      <td>14.669</td>\n",
       "      <td>22.803</td>\n",
       "    </tr>\n",
       "    <tr>\n",
       "      <th>5</th>\n",
       "      <td>12.238</td>\n",
       "      <td>20.878</td>\n",
       "    </tr>\n",
       "    <tr>\n",
       "      <th>6</th>\n",
       "      <td>14.692</td>\n",
       "      <td>24.572</td>\n",
       "    </tr>\n",
       "    <tr>\n",
       "      <th>7</th>\n",
       "      <td>8.987</td>\n",
       "      <td>17.394</td>\n",
       "    </tr>\n",
       "    <tr>\n",
       "      <th>8</th>\n",
       "      <td>9.401</td>\n",
       "      <td>20.762</td>\n",
       "    </tr>\n",
       "    <tr>\n",
       "      <th>9</th>\n",
       "      <td>14.480</td>\n",
       "      <td>26.282</td>\n",
       "    </tr>\n",
       "    <tr>\n",
       "      <th>10</th>\n",
       "      <td>22.328</td>\n",
       "      <td>24.524</td>\n",
       "    </tr>\n",
       "    <tr>\n",
       "      <th>11</th>\n",
       "      <td>15.298</td>\n",
       "      <td>18.644</td>\n",
       "    </tr>\n",
       "    <tr>\n",
       "      <th>12</th>\n",
       "      <td>15.073</td>\n",
       "      <td>17.510</td>\n",
       "    </tr>\n",
       "    <tr>\n",
       "      <th>13</th>\n",
       "      <td>16.929</td>\n",
       "      <td>20.330</td>\n",
       "    </tr>\n",
       "    <tr>\n",
       "      <th>14</th>\n",
       "      <td>18.200</td>\n",
       "      <td>35.255</td>\n",
       "    </tr>\n",
       "    <tr>\n",
       "      <th>15</th>\n",
       "      <td>12.130</td>\n",
       "      <td>22.158</td>\n",
       "    </tr>\n",
       "    <tr>\n",
       "      <th>16</th>\n",
       "      <td>18.495</td>\n",
       "      <td>25.139</td>\n",
       "    </tr>\n",
       "    <tr>\n",
       "      <th>17</th>\n",
       "      <td>10.639</td>\n",
       "      <td>20.429</td>\n",
       "    </tr>\n",
       "    <tr>\n",
       "      <th>18</th>\n",
       "      <td>11.344</td>\n",
       "      <td>17.425</td>\n",
       "    </tr>\n",
       "    <tr>\n",
       "      <th>19</th>\n",
       "      <td>12.369</td>\n",
       "      <td>34.288</td>\n",
       "    </tr>\n",
       "    <tr>\n",
       "      <th>20</th>\n",
       "      <td>12.944</td>\n",
       "      <td>23.894</td>\n",
       "    </tr>\n",
       "    <tr>\n",
       "      <th>21</th>\n",
       "      <td>14.233</td>\n",
       "      <td>17.960</td>\n",
       "    </tr>\n",
       "    <tr>\n",
       "      <th>22</th>\n",
       "      <td>19.710</td>\n",
       "      <td>22.058</td>\n",
       "    </tr>\n",
       "    <tr>\n",
       "      <th>23</th>\n",
       "      <td>16.004</td>\n",
       "      <td>21.157</td>\n",
       "    </tr>\n",
       "  </tbody>\n",
       "</table>\n",
       "</div>"
      ],
      "text/plain": [
       "    Congruent  Incongruent\n",
       "0      12.079       19.278\n",
       "1      16.791       18.741\n",
       "2       9.564       21.214\n",
       "3       8.630       15.687\n",
       "4      14.669       22.803\n",
       "5      12.238       20.878\n",
       "6      14.692       24.572\n",
       "7       8.987       17.394\n",
       "8       9.401       20.762\n",
       "9      14.480       26.282\n",
       "10     22.328       24.524\n",
       "11     15.298       18.644\n",
       "12     15.073       17.510\n",
       "13     16.929       20.330\n",
       "14     18.200       35.255\n",
       "15     12.130       22.158\n",
       "16     18.495       25.139\n",
       "17     10.639       20.429\n",
       "18     11.344       17.425\n",
       "19     12.369       34.288\n",
       "20     12.944       23.894\n",
       "21     14.233       17.960\n",
       "22     19.710       22.058\n",
       "23     16.004       21.157"
      ]
     },
     "execution_count": 88,
     "metadata": {},
     "output_type": "execute_result"
    }
   ],
   "source": [
    "# print the data frame\n",
    "df"
   ]
  },
  {
   "cell_type": "markdown",
   "metadata": {},
   "source": [
    "For the measure of central tendency we'll caculate the mean and for the measure of variation we'll caculate the standard deviation for both the congruent and incongruent experiment test results."
   ]
  },
  {
   "cell_type": "code",
   "execution_count": 89,
   "metadata": {},
   "outputs": [
    {
     "name": "stdout",
     "output_type": "stream",
     "text": [
      "Congruent values mean = 14.051 Congruent values Std =  3.559\n",
      "Incongruent values mean = 22.016 Incongruent values Std =  4.797\n"
     ]
    }
   ],
   "source": [
    "# Calculate and print the mean and std for both test results rounded to three significant digits\n",
    "print('Congruent values mean =', round(df['Congruent'].mean(),3),\n",
    "      'Congruent values Std = ', round(df['Congruent'].std(),3))\n",
    "print('Incongruent values mean =', round(df['Incongruent'].mean(),3),\n",
    "      'Incongruent values Std = ', round(df['Incongruent'].std(),3))\n",
    "#"
   ]
  },
  {
   "cell_type": "markdown",
   "metadata": {},
   "source": [
    "(4) Provide one or two visualizations that show the distribution of the sample data.\n",
    "\n",
    "- Write one or two sentences noting what you observe about the plot or plots."
   ]
  },
  {
   "cell_type": "markdown",
   "metadata": {},
   "source": [
    "### Answer to question 4 part 1:\n",
    "\n",
    "Plot of the Data Frame = df, 'Congruent' column data below, has a mean of aproximatley 14 and has a Gaussian or normal shape distribution"
   ]
  },
  {
   "cell_type": "code",
   "execution_count": 90,
   "metadata": {},
   "outputs": [
    {
     "data": {
      "image/png": "[encoded data removed]",
      "text/plain": [
       "<Figure size 432x288 with 1 Axes>"
      ]
     },
     "metadata": {},
     "output_type": "display_data"
    }
   ],
   "source": [
    "## apply plot background style\n",
    "sns.set(style=\"whitegrid\");\n",
    "\n",
    "# plot distribution of Congruent Presentations values and the mean response time\n",
    "sns.distplot(df['Congruent'],rug=True)\n",
    "plot.axvline(x = round(df['Congruent'].mean(),0),linestyle='dashed',color = 'red',label='mean response time')\n",
    "plot.title('Congruent Presentations Response Time Values')\n",
    "plot.xlabel('Seconds')\n",
    "plot.ylabel('Frequency')\n",
    "plot.legend()\n",
    "plot.show()\n",
    "#"
   ]
  },
  {
   "cell_type": "markdown",
   "metadata": {},
   "source": [
    "### Answer to question 4  part 2:\n",
    "\n",
    "- The plot of the Data Frame (df)'Incongruent'column data below is bimodal in shape where both modes are relatively Gaussian or normal shaped.\n",
    "\n",
    "\n",
    "- The overall mean repsonse time of this bimodal data is approximately 22 which was calculated above and plotted on the graph below in a dashed red verticle line. "
   ]
  },
  {
   "cell_type": "code",
   "execution_count": 91,
   "metadata": {},
   "outputs": [
    {
     "data": {
      "image/png": "[encoded data removed]",
      "text/plain": [
       "<Figure size 432x288 with 1 Axes>"
      ]
     },
     "metadata": {},
     "output_type": "display_data"
    }
   ],
   "source": [
    "# apply plot background style\n",
    "sns.set(style=\"whitegrid\");\n",
    "\n",
    "# plot the distribution of the Incongruent Presentations values and the mean response time\n",
    "sns.distplot(df['Incongruent'],rug=True)\n",
    "plot.axvline(x = round(df['Incongruent'].mean(),0),linestyle='dashed',color = 'red',label='mean response time')\n",
    "plot.title('Incongruent Presentations Response Time Values')\n",
    "plot.xlabel('Seconds')\n",
    "plot.ylabel('Frequency')\n",
    "plot.legend()\n",
    "plot.show()\n",
    "#"
   ]
  },
  {
   "cell_type": "markdown",
   "metadata": {},
   "source": [
    "(5)  Now, perform the statistical test and report your results.\n",
    "\n",
    "- What is your confidence level or Type I error associated with your test?\n",
    "\n",
    "- What is your conclusion regarding the hypotheses you set up?\n",
    "\n",
    "- Did the results match up with your expectations?  "
   ]
  },
  {
   "cell_type": "markdown",
   "metadata": {},
   "source": [
    "### Answer to question 5 parts 1 & 2 :"
   ]
  },
  {
   "cell_type": "markdown",
   "metadata": {},
   "source": [
    "Calculate the degrees of freedom below which is one less than the length of the data frame."
   ]
  },
  {
   "cell_type": "code",
   "execution_count": 92,
   "metadata": {},
   "outputs": [
    {
     "name": "stdout",
     "output_type": "stream",
     "text": [
      "Degrees of freedom = 23\n"
     ]
    }
   ],
   "source": [
    "# Print the degrees of freedom \n",
    "print('Degrees of freedom =', len(df)-1)\n",
    "#"
   ]
  },
  {
   "cell_type": "markdown",
   "metadata": {},
   "source": [
    "Calculate the raw difference in mean response times between the two presentations below"
   ]
  },
  {
   "cell_type": "code",
   "execution_count": 93,
   "metadata": {},
   "outputs": [
    {
     "name": "stdout",
     "output_type": "stream",
     "text": [
      "Difference in Means = 7.965\n"
     ]
    }
   ],
   "source": [
    "# Print the difference in means between the congruent and\n",
    "# incongruent presentations rounded to three places\n",
    "print('Difference in Means =', abs(round(df['Congruent'].mean() - df['Incongruent'].mean(),3)))\n",
    "#"
   ]
  },
  {
   "cell_type": "markdown",
   "metadata": {},
   "source": [
    "Calculate the difference in mean standard deviations between the two presentations below"
   ]
  },
  {
   "cell_type": "code",
   "execution_count": 94,
   "metadata": {},
   "outputs": [
    {
     "name": "stdout",
     "output_type": "stream",
     "text": [
      "Difference in standard deviations = 1.238\n"
     ]
    }
   ],
   "source": [
    "# Print the difference in standard deviations between the\n",
    "# congruent and incongruent presentations rounded to three places\n",
    "print('Difference in standard deviations =', abs(round(df['Incongruent'].std() - df['Congruent'].std(),3)))\n",
    "#"
   ]
  },
  {
   "cell_type": "markdown",
   "metadata": {},
   "source": [
    "For the chosen combination of the null and alternate hypothesis above we would like to have a 99% confidence level in the results of our calculations being meaningful or significant therefore we chosen an Alpha or Type i error rate of 0.01."
   ]
  },
  {
   "cell_type": "code",
   "execution_count": 95,
   "metadata": {},
   "outputs": [
    {
     "name": "stdout",
     "output_type": "stream",
     "text": [
      "Alpha =  0.01\n"
     ]
    }
   ],
   "source": [
    "# Print the desired Alpha or Type I error rate below\n",
    "#\n",
    "Alpha = np.float(0.01)\n",
    "#\n",
    "print('Alpha = ', Alpha)\n",
    "#"
   ]
  },
  {
   "cell_type": "markdown",
   "metadata": {},
   "source": [
    "Set the random seed to enable reproducibility of the calculations by others"
   ]
  },
  {
   "cell_type": "code",
   "execution_count": 96,
   "metadata": {},
   "outputs": [],
   "source": [
    "# set random seed     \n",
    "np.random.seed(2019)"
   ]
  },
  {
   "cell_type": "markdown",
   "metadata": {},
   "source": [
    "Select the appropriate statistical test for determining t-statistic for a paired data set. The chosen test is the ttest_rel because this is data is from pairs of tests conducted on the same groups of individuals."
   ]
  },
  {
   "cell_type": "code",
   "execution_count": 97,
   "metadata": {},
   "outputs": [
    {
     "name": "stdout",
     "output_type": "stream",
     "text": [
      "Ttest_relResult(statistic=-8.020706944109957, pvalue=4.103000585711178e-08)\n"
     ]
    }
   ],
   "source": [
    "# apply the stats.ttest_rel function for \"Calculates the T-test on TWO RELATED samples of scores, a and b and\n",
    "# print the results below\n",
    "#\n",
    "print(stats.ttest_rel(df['Congruent'],df['Incongruent'],axis=0))\n",
    "#"
   ]
  },
  {
   "cell_type": "markdown",
   "metadata": {},
   "source": [
    "Make a boolean comparison between the t-statistic and the p-value to determine if the results of the difference between the means of the paired tests of the congruent presentations vs the incongruent presentations for each subject is significant at the .99 conficence level."
   ]
  },
  {
   "cell_type": "code",
   "execution_count": 98,
   "metadata": {},
   "outputs": [
    {
     "name": "stdout",
     "output_type": "stream",
     "text": [
      "The t-statistic is greater than or equal to the p-value? False\n"
     ]
    }
   ],
   "source": [
    "# assign the ttest_rel results to the variable results_ttest \n",
    "results_ttest = stats.ttest_rel(df['Congruent'],df['Incongruent'],axis=0)\n",
    "\n",
    "# is the t-statistic greater than or equal to the pvalue\n",
    "print('The t-statistic is greater than or equal to the p-value?', results_ttest[0] >= results_ttest[1])\n",
    "#"
   ]
  },
  {
   "cell_type": "markdown",
   "metadata": {},
   "source": [
    "### Answer to question 5 part 3:\n",
    "\n",
    "#### Explanation of ttest_rel:\n",
    "\n",
    "-  The t-statistic is less than the p-value (threshold) therefore we reject the Null Hyposthesis because:\n",
    "    the difference in means between the congruent and incongruent response times are not likely to be\n",
    "    due to chance, therefore the difference between the two means is significant.\n"
   ]
  },
  {
   "cell_type": "markdown",
   "metadata": {},
   "source": [
    "### (6) Optional:\n",
    "\n",
    "- What do you think is responsible for the effects observed?\n",
    "\n",
    "- Can you think of an alternative or similar task that would result in a similar effect?\n",
    "\n",
    "- Some research about the problem will be helpful for thinking about these two questions!"
   ]
  },
  {
   "cell_type": "markdown",
   "metadata": {},
   "source": [
    "### Answer to question 6:\n",
    "\n",
    "- In this situation I believe the brain has two automation processes going on simultaneously which are in competion with each other and depending on the instructions given verbally to the test takers the brain must override one of two automatic responses to stimuli it has been presented with, which causes an average delay in decision making by a magnitude of approximatley 8 seconds which is significant and not due to chance.\n",
    "\n",
    "- A similar task in my view would be driving a vehicle while texting. \n",
    "\n",
    "- People who are texting while driving are often unable to safely keep control of their vehicles and wind up in auto accidents because of delays in reaction time caused by competing stimuli to the brain."
   ]
  },
  {
   "cell_type": "markdown",
   "metadata": {},
   "source": [
    "### References:\n",
    "\n",
    "- https://seaborn.pydata.org/tutorial.html\n",
    "\n",
    "- https://en.wikipedia.org/wiki/Standard_error\n",
    "\n",
    "- https://en.wikipedia.org/wiki/Critical_value\n",
    "\n",
    "- https://docs.scipy.org/doc/scipy-0.14.0/reference/generated/scipy.stats.ttest_rel.html\n",
    "\n",
    "- https://stackoverflow.com/questions/17941083/how-to-label-a-line-in-matplotlib-python/17942066\n",
    "\n",
    "- https://docs.google.com/document/d/1-OkpZLjG_kX9J6LIQ5IltsqMzVWjh36QpnP2RYpVdPU/pub?embedded=True\n",
    "\n",
    "- http://eric.univ-lyon2.fr/~ricco/tanagra/fichiers/en_Tanagra_Calcul_P_Value.pdf\n",
    "\n",
    "- https://www.itl.nist.gov/div898/handbook/eda/section3/eda3672.htm\n",
    "\n",
    "- https://docs.scipy.org/doc/scipy/reference/generated/scipy.stats.t.html\n",
    "\n",
    "- https://docs.scipy.org/doc/scipy-0.14.0/reference/generated/scipy.stats.t.html\n",
    "\n",
    "- https://github.com/deepak525/Test-a-Perceptual-Phenomenon/blob/master/Test_a_Perceptual_Phenomenon.ipynb\n",
    "\n",
    "- https://github.com/latinacode/Test-a-Perceptual-Phenomenon/blob/master/Test%20a%20Perceptual%20Phenomenon.ipynb\n",
    "\n",
    "- https://github.com/j450h1/P1-Test-a-Perceptual-Phenomenon/blob/master/Project%20Questions.ipynb\n",
    "\n",
    "- https://github.com/abodacs/Test-a-Perceptual-Phenomenon/blob/master/Test%20a%20Perceptual%20Phenomenon.ipynb\n",
    "\n",
    "- https://ryanwingate.com/assets/projects/Stroop_Effect_Analysis.html\n",
    "\n",
    "- https://github.com/kanhua/Udacity-DA-projects/blob/master/Test%20a%20Perceptual%20Phenomenon/Test%20a%20perceptual%20phenomenon.ipynb"
   ]
  },
  {
   "cell_type": "code",
   "execution_count": null,
   "metadata": {},
   "outputs": [],
   "source": []
  }
 ],
 "metadata": {
  "kernelspec": {
   "display_name": "Python 3",
   "language": "python",
   "name": "python3"
  },
  "language_info": {
   "codemirror_mode": {
    "name": "ipython",
    "version": 3
   },
   "file_extension": ".py",
   "mimetype": "text/x-python",
   "name": "python",
   "nbconvert_exporter": "python",
   "pygments_lexer": "ipython3",
   "version": "3.6.8"
  }
 },
 "nbformat": 4,
 "nbformat_minor": 2
}
