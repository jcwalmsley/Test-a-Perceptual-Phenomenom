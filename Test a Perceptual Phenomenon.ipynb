{
 "cells": [
  {
   "cell_type": "markdown",
   "metadata": {},
   "source": [
    "### Analyzing the Stroop Effect\n",
    "\n",
    "Search results of stroop effect: [stroop effect](https://www.google.com/search?q=stroop+effect&oq=stroop+effect&aqs=chrome..69i57j69i61l3.6567j0j7&sourceid=chrome&ie=UTF-8)\n",
    "\n",
    "\n",
    "(1) What is the independent variable? What is the dependent variable?\n",
    "\n"
   ]
  },
  {
   "cell_type": "markdown",
   "metadata": {},
   "source": [
    "### Answer to question 1:\n",
    "\n",
    "\n",
    "- The independent variable is the: **(stimulus)** or in this case, the presentation of a word in letters describing a color in either a matching font color (i.e., a congruent presentation) or a non matching font color (i.e., an incongruent presentation) \n",
    "\n",
    "\n",
    "- The dependent variable on the other hand, is the: **(response)** or in this case the reaction time, also called the: *(interference score)* in this experiment, which is the time it takes a person to enunciate the actual font ink color of a displayed color name. For example, if the word 'PINK' is displayed in blue ink, the dependent variable or response, is how long in seconds it takes a person to enunciate the word blue from the time the word is shown to the subject even though the written word says \"PINK\"."
   ]
  },
  {
   "cell_type": "markdown",
   "metadata": {},
   "source": [
    "(2) What is an appropriate set of hypotheses for this task? Specify your null and alternative hypotheses, and clearly define any notation used. Justify your choices."
   ]
  },
  {
   "cell_type": "markdown",
   "metadata": {},
   "source": [
    "### Answer to question 2:\n",
    "\n",
    "- $H_0$ =  Null hypothesis\n",
    "- $H_A$ =  Alternate hypothesis\n",
    "- $\\mu_c$ =  mean response time of the congruent presentation (font color matches the word color description)\n",
    "- $\\mu_i$ =  mean response time of the incongruent presentation (font color does not match the word color description)\n",
    "\n",
    "---\n",
    "\n",
    "The Null hypothesis: the congruent presentation mean repsonse time equals the incogruent presentation mean response time\n",
    "\n",
    "$H_0$ :     $\\mu_c$   =     $\\mu_i$ \n",
    "\n",
    "---\n",
    "\n",
    "The Alternative hypothesis: the congruent presentation mean response time does not equal the incongruent presentation mean response time\n",
    "\n",
    "$H_A$:      $\\mu_c$   ≠      $\\mu_i$   \n",
    "\n",
    "\n",
    "---\n",
    "\n",
    "\n",
    "- When each participant is tested under both conditions (congruency) and (incongruency) a ttest_rel [scipy.stats.ttest_rel](https://docs.scipy.org/doc/scipy-0.14.0/reference/generated/scipy.stats.ttest_rel.html) is selected to ascertain if the differences in the means of the two groups of responses are statistically significant. \n",
    "\n",
    "- If the alternative hypothesis is stated as either less than or greater than we generally have a two tailed test, in this case however we'll use a one tailed experiment because negative response times are infeasible. "
   ]
  },
  {
   "cell_type": "markdown",
   "metadata": {},
   "source": [
    "(3) Report some descriptive statistics regarding this dataset. Include at least one measure of central tendency and at least one measure of variability. The name of the data file is 'stroopdata.csv'."
   ]
  },
  {
   "cell_type": "markdown",
   "metadata": {},
   "source": [
    "### Answer to question 3:"
   ]
  },
  {
   "cell_type": "code",
   "execution_count": 20,
   "metadata": {},
   "outputs": [],
   "source": [
    "# Perform the analysis here\n",
    "# importing packages\n",
    "import os\n",
    "import math\n",
    "import random\n",
    "import numpy as np\n",
    "import pandas as pd\n",
    "import seaborn as sns\n",
    "%matplotlib inline\n",
    "import matplotlib.pyplot as plot\n",
    "import statistics as st\n",
    "from scipy import stats\n",
    "from scipy.stats import t\n",
    "# setting a random seed\n",
    "np.random.seed(2019)\n",
    "\n",
    "\n",
    "# read in data\n",
    "df = pd.read_csv('stroopdata.csv')\n",
    "#"
   ]
  },
  {
   "cell_type": "markdown",
   "metadata": {},
   "source": [
    "For the measure of central tendency we'll caculate the mean and for the measure of variation we'll caculate the standard deviation for both the congruent and incongruent experiment test results."
   ]
  },
  {
   "cell_type": "code",
   "execution_count": 21,
   "metadata": {},
   "outputs": [
    {
     "name": "stdout",
     "output_type": "stream",
     "text": [
      "Congruent values mean = 14.0511 Congruent values Std =  3.5594\n",
      "Incongruent values mean = 22.0159 Incongruent values Std =  4.7971\n"
     ]
    }
   ],
   "source": [
    "# Calculate and print the mean and std for both test results\n",
    "print('Congruent values mean =', round(df['Congruent'].mean(),4),\n",
    "      'Congruent values Std = ', round(df['Congruent'].std(),4))\n",
    "print('Incongruent values mean =', round(df['Incongruent'].mean(),4),\n",
    "      'Incongruent values Std = ', round(df['Incongruent'].std(),4))\n",
    "#"
   ]
  },
  {
   "cell_type": "markdown",
   "metadata": {},
   "source": [
    "(4) Provide one or two visualizations that show the distribution of the sample data.\n",
    "\n",
    "- Write one or two sentences noting what you observe about the plot or plots."
   ]
  },
  {
   "cell_type": "markdown",
   "metadata": {},
   "source": [
    "### Answer to question 4 part 1:\n",
    "\n",
    "Plot of the Data Frame = df, 'Congruent' column data below, has a mean of aproximatley 14 and has a Gaussian or normal shape distribution"
   ]
  },
  {
   "cell_type": "code",
   "execution_count": 32,
   "metadata": {},
   "outputs": [
    {
     "data": {
      "text/plain": [
       "Text(0, 0.5, 'Frequency')"
      ]
     },
     "execution_count": 32,
     "metadata": {},
     "output_type": "execute_result"
    },
    {
     "data": {
      "image/png": "[encoded data removed]",
      "text/plain": [
       "<Figure size 432x288 with 1 Axes>"
      ]
     },
     "metadata": {},
     "output_type": "display_data"
    }
   ],
   "source": [
    "# apply plot background style\n",
    "sns.set(style=\"whitegrid\");\n",
    "\n",
    "# plot distribution of Congruent Presentations values \n",
    "sns.distplot(df['Congruent'])\n",
    "plot.axvline(x = round(df['Congruent'].mean(),0),color = 'red')\n",
    "plot.title('Congruent Presentations Response Time Values')\n",
    "plot.xlabel('Seconds')\n",
    "plot.ylabel('Frequency')\n",
    "#"
   ]
  },
  {
   "cell_type": "markdown",
   "metadata": {},
   "source": [
    "### Answer to question 4  part 2:\n",
    "\n",
    "- The plot of the Data Frame = df, 'Incongruent' column, data has a bimodal distribution with each mode having a Gassian or normal shaped distribution.\n",
    "\n",
    "\n",
    "- The larger mode to the left has a mean of aproximately 20 and the smaller mode to the right has a mean of approximately 35."
   ]
  },
  {
   "cell_type": "code",
   "execution_count": 31,
   "metadata": {},
   "outputs": [
    {
     "data": {
      "text/plain": [
       "Text(0, 0.5, 'Frequency')"
      ]
     },
     "execution_count": 31,
     "metadata": {},
     "output_type": "execute_result"
    },
    {
     "data": {
      "image/png": "[encoded data removed]",
      "text/plain": [
       "<Figure size 432x288 with 1 Axes>"
      ]
     },
     "metadata": {},
     "output_type": "display_data"
    }
   ],
   "source": [
    "# apply plot background style\n",
    "sns.set(style=\"whitegrid\");\n",
    "\n",
    "# plot the distribution of the Incongruent Presentations variable\n",
    "sns.distplot(df['Incongruent'])\n",
    "plot.axvline(x = round(df['Incongruent'].mean(),0), color='red')\n",
    "plot.title('Incongruent Presentations Response Time Values')\n",
    "plot.xlabel('Seconds')\n",
    "plot.ylabel('Frequency')\n",
    "#"
   ]
  },
  {
   "cell_type": "markdown",
   "metadata": {},
   "source": [
    "(5)  Now, perform the statistical test and report your results.\n",
    "\n",
    "- What is your confidence level or Type I error associated with your test?\n",
    "\n",
    "- What is your conclusion regarding the hypotheses you set up?\n",
    "\n",
    "- Did the results match up with your expectations?  "
   ]
  },
  {
   "cell_type": "markdown",
   "metadata": {},
   "source": [
    "### Answer to question 5 parts 1 & 2 :"
   ]
  },
  {
   "cell_type": "code",
   "execution_count": 24,
   "metadata": {},
   "outputs": [
    {
     "name": "stdout",
     "output_type": "stream",
     "text": [
      "Degrees of freedom = 23\n"
     ]
    }
   ],
   "source": [
    "import random\n",
    "from scipy.stats import t\n",
    "\n",
    "# Calculate degrees of freedom\n",
    "print('Degrees of freedom =', len(df)-1)\n",
    "#"
   ]
  },
  {
   "cell_type": "code",
   "execution_count": 25,
   "metadata": {},
   "outputs": [
    {
     "name": "stdout",
     "output_type": "stream",
     "text": [
      "Difference in Means = 7.9648\n"
     ]
    }
   ],
   "source": [
    "# Calculte the difference in means between the congruent and\n",
    "# incongruent presentations rounded to four places\n",
    "print('Difference in Means =', abs(round(df['Congruent'].mean() - df['Incongruent'].mean(),4)))\n",
    "#"
   ]
  },
  {
   "cell_type": "code",
   "execution_count": 26,
   "metadata": {},
   "outputs": [
    {
     "name": "stdout",
     "output_type": "stream",
     "text": [
      "Difference in standard deviations = 1.2377\n"
     ]
    }
   ],
   "source": [
    "# Calculte the difference in standard deviations between the\n",
    "# congruent and incongruent presentations rounded to four places\n",
    "print('Difference in standard deviations =', abs(round(df['Incongruent'].std() - df['Congruent'].std(),4)))\n",
    "#"
   ]
  },
  {
   "cell_type": "code",
   "execution_count": 27,
   "metadata": {},
   "outputs": [
    {
     "name": "stdout",
     "output_type": "stream",
     "text": [
      "The desired Alpha rate or type I error rate =  0.01 or said differently, we want a confidence level of 0.99\n",
      "Alpha =  0.01\n"
     ]
    }
   ],
   "source": [
    "# Desired Alpha or Type I error rate\n",
    "print('The desired Alpha rate or type I error rate = ', 0.01, 'or said differently, we want a confidence level of 0.99')\n",
    "#\n",
    "Alpha = np.float(0.01)\n",
    "#\n",
    "print('Alpha = ', Alpha)\n",
    "#"
   ]
  },
  {
   "cell_type": "code",
   "execution_count": 28,
   "metadata": {},
   "outputs": [
    {
     "name": "stdout",
     "output_type": "stream",
     "text": [
      "Ttest_relResult(statistic=-8.020706944109957, pvalue=4.103000585711178e-08)\n"
     ]
    }
   ],
   "source": [
    "# set random seed       \n",
    "np.random.seed(2019)\n",
    "                                  \n",
    "# apply the stats.ttest_rel function for \"Calculates the T-test on TWO RELATED samples of scores, a and b.\"\n",
    "print(stats.ttest_rel(df['Congruent'],df['Incongruent'],axis=0))\n",
    "#"
   ]
  },
  {
   "cell_type": "code",
   "execution_count": 29,
   "metadata": {},
   "outputs": [
    {
     "name": "stdout",
     "output_type": "stream",
     "text": [
      "The t-statistic is greater than or equal to the p-value? False\n"
     ]
    }
   ],
   "source": [
    "# assign the ttest_rel results to the variable results_ttest \n",
    "results_ttest = stats.ttest_rel(df['Congruent'],df['Incongruent'],axis=0)\n",
    "\n",
    "# is the t-statistic greater than or equal to the pvalue\n",
    "print('The t-statistic is greater than or equal to the p-value?', results_ttest[0] >= results_ttest[1])\n",
    "#"
   ]
  },
  {
   "cell_type": "markdown",
   "metadata": {},
   "source": [
    "### Answer to question 5 part 3:\n",
    "\n",
    "#### Explanation of ttest_rel:\n",
    "\n",
    "-  The t-statistic is less than the p-value (threshold) therefore we reject the Null Hyposthesis because:\n",
    "    the difference in means between the congruent and incongruent response times are not likely to be\n",
    "    due to chance, therefore the difference between the two means is significant.\n"
   ]
  },
  {
   "cell_type": "markdown",
   "metadata": {},
   "source": [
    "### (6) Optional:\n",
    "\n",
    "- What do you think is responsible for the effects observed?\n",
    "\n",
    "- Can you think of an alternative or similar task that would result in a similar effect?\n",
    "\n",
    "- Some research about the problem will be helpful for thinking about these two questions!"
   ]
  },
  {
   "cell_type": "markdown",
   "metadata": {},
   "source": [
    "### Answer to question 6:\n",
    "\n",
    "- In this situation I believe the brain has two automation processes going on simultaneously which are in competion with each other and depending on the instructions given verbally to the test takers the brain must override one of two automatic responses to stimuli it has been presented with, which causes an average delay in decision making by a magnitude of approximatley 8 seconds which is significant and not due to chance.\n",
    "\n",
    "- A similar task in my view would be driving a vehicle while texting. \n",
    "\n",
    "- People who are texting while driving are often unable to safely keep control of their vehicles and wind up in auto accidents because of delays in reaction time caused by competing stimuli to the brain."
   ]
  },
  {
   "cell_type": "markdown",
   "metadata": {},
   "source": [
    "### References:\n",
    "\n",
    "- https://seaborn.pydata.org/tutorial.html\n",
    "\n",
    "- https://en.wikipedia.org/wiki/Standard_error\n",
    "\n",
    "- https://en.wikipedia.org/wiki/Critical_value\n",
    "\n",
    "- https://docs.scipy.org/doc/scipy-0.14.0/reference/generated/scipy.stats.ttest_rel.html\n",
    "\n",
    "- https://docs.google.com/document/d/1-OkpZLjG_kX9J6LIQ5IltsqMzVWjh36QpnP2RYpVdPU/pub?embedded=True\n",
    "\n",
    "- http://eric.univ-lyon2.fr/~ricco/tanagra/fichiers/en_Tanagra_Calcul_P_Value.pdf\n",
    "\n",
    "- https://www.itl.nist.gov/div898/handbook/eda/section3/eda3672.htm\n",
    "\n",
    "- https://docs.scipy.org/doc/scipy/reference/generated/scipy.stats.t.html\n",
    "\n",
    "- https://docs.scipy.org/doc/scipy-0.14.0/reference/generated/scipy.stats.t.html\n",
    "\n",
    "- https://github.com/deepak525/Test-a-Perceptual-Phenomenon/blob/master/Test_a_Perceptual_Phenomenon.ipynb\n",
    "\n",
    "- https://github.com/latinacode/Test-a-Perceptual-Phenomenon/blob/master/Test%20a%20Perceptual%20Phenomenon.ipynb\n",
    "\n",
    "- https://github.com/j450h1/P1-Test-a-Perceptual-Phenomenon/blob/master/Project%20Questions.ipynb\n",
    "\n",
    "- https://github.com/abodacs/Test-a-Perceptual-Phenomenon/blob/master/Test%20a%20Perceptual%20Phenomenon.ipynb\n",
    "\n",
    "- https://ryanwingate.com/assets/projects/Stroop_Effect_Analysis.html\n",
    "\n",
    "- https://github.com/SThornewillvE/Udacity-Project---Test-a-perceptual-phenomenon/blob/master/Test-a-Perceptual-Phenomenon.ipynb\n",
    "\n",
    "- https://github.com/kanhua/Udacity-DA-projects/blob/master/Test%20a%20Perceptual%20Phenomenon/Test%20a%20perceptual%20phenomenon.ipynb"
   ]
  },
  {
   "cell_type": "code",
   "execution_count": null,
   "metadata": {},
   "outputs": [],
   "source": []
  }
 ],
 "metadata": {
  "kernelspec": {
   "display_name": "Python 3",
   "language": "python",
   "name": "python3"
  },
  "language_info": {
   "codemirror_mode": {
    "name": "ipython",
    "version": 3
   },
   "file_extension": ".py",
   "mimetype": "text/x-python",
   "name": "python",
   "nbconvert_exporter": "python",
   "pygments_lexer": "ipython3",
   "version": "3.6.8"
  }
 },
 "nbformat": 4,
 "nbformat_minor": 2
}
