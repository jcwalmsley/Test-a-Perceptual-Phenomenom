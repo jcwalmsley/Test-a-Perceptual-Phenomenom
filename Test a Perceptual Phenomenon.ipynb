{
 "cells": [
  {
   "cell_type": "markdown",
   "metadata": {},
   "source": [
    "### Analyzing the Stroop Effect\n",
    "Perform the analysis in the space below. Remember to follow [the instructions](https://docs.google.com/document/d/1-OkpZLjG_kX9J6LIQ5IltsqMzVWjh36QpnP2RYpVdPU/pub?embedded=True) and review the [project rubric](https://review.udacity.com/#!/rubrics/71/view) before submitting. Once you've completed the analysis and write-up, download this file as a PDF or HTML file, upload that PDF/HTML into the workspace here (click on the orange Jupyter icon in the upper left then Upload), then use the Submit Project button at the bottom of this page. This will create a zip file containing both this .ipynb doc and the PDF/HTML doc that will be submitted for your project.\n",
    "\n",
    "\n",
    "(1) What is the independent variable? What is the dependent variable?"
   ]
  },
  {
   "cell_type": "markdown",
   "metadata": {},
   "source": [
    "### Answer for question 1:\n",
    "\n",
    "\n",
    "- The independent variable is the: **(stimulus)** or in this case the presentation of a word in letters describing a color in either the matching font color (i.e., a congruent presentation) or a non matching font color (i.e., an incongruent presentation) \n",
    "\n",
    "\n",
    "- The dependent variable, on he other hand, is the: **(response)** or in this case the reaction time, also called the: *(interference score)* in this experiment, which is the amount of time it takes a subject (i.e., a person), to enunciate the actual font or ink color of a displayed word of a color. For example, if the word 'PINK' is displayed in blue ink or font, the dependent variable or rsponse, is the time it takes a subject to enunciate the word blue from the time the word is shown to the subject even though the written word says \"PINK\".\n"
   ]
  },
  {
   "cell_type": "markdown",
   "metadata": {},
   "source": [
    "(2) What is an appropriate set of hypotheses for this task? Specify your null and alternative hypotheses, and clearly define any notation used. Justify your choices."
   ]
  },
  {
   "cell_type": "markdown",
   "metadata": {},
   "source": [
    "### Answer for question 2:\n",
    "\n",
    "- H$_0$ =  Null hypothesis\n",
    "- H$_A$ =  Alternate hypothesis\n",
    "- u$_c$ =  mean response time of the congruent presentation (font color matches the word color description)\n",
    "- u$_i$ =  mean response time of the incongruent presentation (font color does not match the word color description)\n",
    "\n",
    "---\n",
    "\n",
    "The Null hypothesis: the congruent presentation mean repsonse time equals the incogruent presentation mean response time\n",
    "\n",
    "H$_0$ :    u$_c$   =     u$_i$ \n",
    "\n",
    "---\n",
    "\n",
    "The Alternative hypothesis: the congruent presentation mean response time does not equal the incongruent presentation mean response time\n",
    "\n",
    "H$_A$:     u$_c$   ≠      u$_i$   \n",
    "\n",
    "\n",
    "---\n",
    "\n",
    "\n",
    "- When each participant is tested under both conditions (congruency) and (incongruency) a one tailed ttest_rel is selected to ascertain if the differences in the means of the two groups of responses are statistically significant. "
   ]
  },
  {
   "cell_type": "markdown",
   "metadata": {},
   "source": [
    "(3) Report some descriptive statistics regarding this dataset. Include at least one measure of central tendency and at least one measure of variability. The name of the data file is 'stroopdata.csv'."
   ]
  },
  {
   "cell_type": "markdown",
   "metadata": {},
   "source": [
    "### Answer for Question 3:"
   ]
  },
  {
   "cell_type": "code",
   "execution_count": 1,
   "metadata": {},
   "outputs": [
    {
     "name": "stdout",
     "output_type": "stream",
     "text": [
      "Congruent values mean = 14.0511 Congruent values Std =  3.5594\n",
      "Incongruent values mean = 22.0159 Incongruent values Std =  4.7971\n"
     ]
    }
   ],
   "source": [
    "# Perform the analysis here\n",
    "import os\n",
    "import math\n",
    "import random\n",
    "import numpy as np\n",
    "import pandas as pd\n",
    "import seaborn as sns\n",
    "%matplotlib inline\n",
    "import matplotlib.pyplot as plot\n",
    "import statistics as st\n",
    "from scipy import stats\n",
    "from scipy.stats import t\n",
    "np.random.seed(2019)\n",
    "\n",
    "df = pd.read_csv('stroopdata.csv')\n",
    "print('Congruent values mean =', round(df['Congruent'].mean(),4),'Congruent values Std = ', round(df['Congruent'].std(),4))\n",
    "print('Incongruent values mean =', round(df['Incongruent'].mean(),4),'Incongruent values Std = ', round(df['Incongruent'].std(),4))\n",
    "df;"
   ]
  },
  {
   "cell_type": "code",
   "execution_count": 2,
   "metadata": {},
   "outputs": [
    {
     "name": "stdout",
     "output_type": "stream",
     "text": [
      "Congruent values mean = 14.0511 Congruent values Std =  3.5594\n",
      "Incongruent values mean = 22.0159 Incongruent values Std =  4.7971\n"
     ]
    }
   ],
   "source": [
    "# Get mean and std for both test results\n",
    "print('Congruent values mean =', round(df['Congruent'].mean(),4),'Congruent values Std = ', round(df['Congruent'].std(),4))\n",
    "print('Incongruent values mean =', round(df['Incongruent'].mean(),4),'Incongruent values Std = ', round(df['Incongruent'].std(),4))\n"
   ]
  },
  {
   "cell_type": "markdown",
   "metadata": {},
   "source": [
    "(4) Provide one or two visualizations that show the distribution of the sample data. Write one or two sentences noting what you observe about the plot or plots."
   ]
  },
  {
   "cell_type": "markdown",
   "metadata": {},
   "source": [
    "### Answer for Question 4, pt 1:\n",
    "\n",
    "- Plot of the Data Frame = df, 'Congruent' column data below, has a mean of aproximatley 14 and has a Gaussian or normal shape distribution"
   ]
  },
  {
   "cell_type": "code",
   "execution_count": 3,
   "metadata": {},
   "outputs": [
    {
     "data": {
      "text/plain": [
       "Text(0,0.5,'Frequency of responses')"
      ]
     },
     "execution_count": 3,
     "metadata": {},
     "output_type": "execute_result"
    },
    {
     "data": {
      "image/png": "[encoded data removed]",
      "text/plain": [
       "<matplotlib.figure.Figure at 0x7f0990264240>"
      ]
     },
     "metadata": {},
     "output_type": "display_data"
    }
   ],
   "source": [
    "# apply the plot background\n",
    "sns.set(style=\"whitegrid\")\n",
    "\n",
    "# plot the distribution of the Congruent Presentations variable \n",
    "sns.distplot(df['Congruent'])\n",
    "plot.title('Response Time for Congruent Presentations')\n",
    "plot.xlabel('Time in seconds')\n",
    "plot.ylabel('Frequency of responses')\n"
   ]
  },
  {
   "cell_type": "markdown",
   "metadata": {},
   "source": [
    "### Answer for Question 4,  part 2:\n",
    "\n",
    "- The plot of the Data Frame = df, 'Incongruent' column, data has a bimodal distribution with each mode having a Gassian or normal shaped distribution.\n",
    "\n",
    "\n",
    "- The larger mode to the left has a mean of aproximately 20 and the smaller mode to the right has a mean of approximately 35."
   ]
  },
  {
   "cell_type": "code",
   "execution_count": 4,
   "metadata": {},
   "outputs": [
    {
     "data": {
      "text/plain": [
       "Text(0,0.5,'Frequency of responses')"
      ]
     },
     "execution_count": 4,
     "metadata": {},
     "output_type": "execute_result"
    },
    {
     "data": {
      "image/png": "[encoded data removed]",
      "text/plain": [
       "<matplotlib.figure.Figure at 0x7f095fd468d0>"
      ]
     },
     "metadata": {},
     "output_type": "display_data"
    }
   ],
   "source": [
    "# apply the plot background\n",
    "sns.set(style=\"whitegrid\")\n",
    "\n",
    "# plot the distribution of the Incongruent Presentations variable\n",
    "sns.distplot(df['Incongruent'])\n",
    "plot.title('Response Time for Incongruent Presentations')\n",
    "plot.xlabel('Time in seconds')\n",
    "plot.ylabel('Frequency of responses')"
   ]
  },
  {
   "cell_type": "markdown",
   "metadata": {},
   "source": [
    "(5)  Now, perform the statistical test and report your results. What is your confidence level or Type I error associated with your test? What is your conclusion regarding the hypotheses you set up? Did the results match up with your expectations? **Hint:**  Think about what is being measured on each individual, and what statistic best captures how an individual reacts in each environment."
   ]
  },
  {
   "cell_type": "markdown",
   "metadata": {},
   "source": [
    "### Answer for question 5, part 1 & 2 :"
   ]
  },
  {
   "cell_type": "code",
   "execution_count": 5,
   "metadata": {},
   "outputs": [
    {
     "name": "stdout",
     "output_type": "stream",
     "text": [
      "Degrees of freedom = 23\n",
      "Difference in Means = 7.9648\n",
      "Difference in Stds = 1.2377\n",
      "The desired Alpha rate or type I error rate =  0.01 or said differently, the confidence level is 0.99\n",
      "Alpha =  0.01\n",
      "Limits =  0.99 0.01\n",
      "Ttest_relResult(statistic=-8.020706944109957, pvalue=4.1030005857111781e-08)\n"
     ]
    },
    {
     "data": {
      "text/plain": [
       "False"
      ]
     },
     "execution_count": 5,
     "metadata": {},
     "output_type": "execute_result"
    }
   ],
   "source": [
    "import random\n",
    "from scipy.stats import t\n",
    "\n",
    "# show the degrees of freedom\n",
    "print('Degrees of freedom =', len(df)-1)\n",
    "\n",
    "# Calculte the difference in means between the congruent and incongruent presentations rounded to four places\n",
    "print('Difference in Means =', abs(round(df['Congruent'].mean(),4) - round(df['Incongruent'].mean(),4)))\n",
    "\n",
    "# Calculte the difference in standard deviations between the congruent and incongruent presentations rounded \n",
    "# to four places\n",
    "print('Difference in Stds =', abs(round(df['Incongruent'].std() -df['Congruent'].std(),4)))\n",
    "\n",
    "# Desired Alpha or Type I error rate\n",
    "print('The desired Alpha rate or type I error rate = ', 0.01, 'or said differently, the confidence level is 0.99')\n",
    "Alpha = np.float(0.01)\n",
    "print('Alpha = ', Alpha)\n",
    "# \n",
    "limits = 1 - Alpha\n",
    "print('Limits = ', limits, round(1 - limits,3))\n",
    "\n",
    "# set seed       \n",
    "np.random.seed(2019)\n",
    "                                  \n",
    "# apply the stats.ttest_rel function for \"Calculates the T-test on TWO RELATED samples of scores, a and b.\"\n",
    "print(stats.ttest_rel(df['Congruent'],df['Incongruent'],axis=0))\n",
    "\n",
    "# assign names to values\n",
    "t = -8.020706944109957 \n",
    "p = (4.1030005857111781e-08 / 2)\n",
    "\n",
    "# Comparison of the T-statistic and p-value of a one tail distribution\n",
    "t >= p\n"
   ]
  },
  {
   "cell_type": "markdown",
   "metadata": {},
   "source": [
    "### Answer to question 5 part 3:\n",
    "#### My analysis of the results of the the hypothesis test that was set up is:\n",
    "\n",
    "-  Since the calculated t-statistic is less than the p-value we reject the Null hyposthesis because the difference between the congruent and incongruent response time means is not likely due to chance and therefore the difference is significant."
   ]
  },
  {
   "cell_type": "markdown",
   "metadata": {},
   "source": [
    "(6) Optional: What do you think is responsible for the effects observed? Can you think of an alternative or similar task that would result in a similar effect? Some research about the problem will be helpful for thinking about these two questions!"
   ]
  },
  {
   "cell_type": "markdown",
   "metadata": {},
   "source": [
    "### Answer to question 6:\n",
    "\n",
    "- In this situation I believe the brain has two automation processes going on simultaneously which are in competion with each other and depending on the instructions given verbally to the test taker the brain must override one of the two automatic responses to stimuli it has been presented with which causes a delay in decision making by a magnitude of approximatley 8 seconds.\n",
    "\n",
    "- A similar task in my view would be driving a vehicle while texting. \n",
    "\n",
    "- People who are texting while driving are often unable to safely keep control of their vehicles and wind up in auto accidents because of delays in reaction time caused by competing stimuli to the brain."
   ]
  },
  {
   "cell_type": "markdown",
   "metadata": {},
   "source": [
    "### References:\n",
    "\n",
    "- https://seaborn.pydata.org/tutorial.html\n",
    "\n",
    "- https://en.wikipedia.org/wiki/Standard_error\n",
    "\n",
    "- https://en.wikipedia.org/wiki/Critical_value\n",
    "\n",
    "- https://docs.google.com/document/d/1-OkpZLjG_kX9J6LIQ5IltsqMzVWjh36QpnP2RYpVdPU/pub?embedded=True\n",
    "\n",
    "- http://eric.univ-lyon2.fr/~ricco/tanagra/fichiers/en_Tanagra_Calcul_P_Value.pdf\n",
    "\n",
    "- https://www.itl.nist.gov/div898/handbook/eda/section3/eda3672.htm\n",
    "\n",
    "- https://docs.scipy.org/doc/scipy/reference/generated/scipy.stats.t.html\n",
    "\n",
    "- https://docs.scipy.org/doc/scipy-0.14.0/reference/generated/scipy.stats.t.html\n",
    "\n",
    "- https://github.com/deepak525/Test-a-Perceptual-Phenomenon/blob/master/Test_a_Perceptual_Phenomenon.ipynb\n",
    "\n",
    "- https://github.com/latinacode/Test-a-Perceptual-Phenomenon/blob/master/Test%20a%20Perceptual%20Phenomenon.ipynb\n",
    "\n",
    "- https://github.com/j450h1/P1-Test-a-Perceptual-Phenomenon/blob/master/Project%20Questions.ipynb\n",
    "\n",
    "- https://github.com/abodacs/Test-a-Perceptual-Phenomenon/blob/master/Test%20a%20Perceptual%20Phenomenon.ipynb\n",
    "\n",
    "- https://ryanwingate.com/assets/projects/Stroop_Effect_Analysis.html\n",
    "\n",
    "- https://github.com/SThornewillvE/Udacity-Project---Test-a-perceptual-phenomenon/blob/master/Test-a-Perceptual-Phenomenon.ipynb\n",
    "\n",
    "- https://github.com/kanhua/Udacity-DA-projects/blob/master/Test%20a%20Perceptual%20Phenomenon/Test%20a%20perceptual%20phenomenon.ipynb"
   ]
  },
  {
   "cell_type": "code",
   "execution_count": null,
   "metadata": {},
   "outputs": [],
   "source": []
  }
 ],
 "metadata": {
  "kernelspec": {
   "display_name": "Python 3",
   "language": "python",
   "name": "python3"
  },
  "language_info": {
   "codemirror_mode": {
    "name": "ipython",
    "version": 3
   },
   "file_extension": ".py",
   "mimetype": "text/x-python",
   "name": "python",
   "nbconvert_exporter": "python",
   "pygments_lexer": "ipython3",
   "version": "3.6.3"
  }
 },
 "nbformat": 4,
 "nbformat_minor": 2
}
